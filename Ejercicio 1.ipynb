{
 "cells": [
  {
   "cell_type": "code",
   "execution_count": 1,
   "id": "4c1b3f44-37b6-48d9-9ff6-1add154ca33b",
   "metadata": {},
   "outputs": [
    {
     "name": "stdout",
     "output_type": "stream",
     "text": [
      " //\\\n",
      "//__\\\n",
      "||  ||\n",
      "||__||\n"
     ]
    }
   ],
   "source": [
    "print (' //\\\\')\n",
    "print ('//__\\\\')\n",
    "print ('||  ||')\n",
    "print ('||__||')"
   ]
  },
  {
   "cell_type": "code",
   "execution_count": null,
   "id": "5a919489-a770-4ec7-942d-0d7da27d05aa",
   "metadata": {},
   "outputs": [],
   "source": []
  },
  {
   "cell_type": "code",
   "execution_count": null,
   "id": "7a0beb9c-dad9-4d4a-a024-86f641c32c4c",
   "metadata": {},
   "outputs": [],
   "source": []
  }
 ],
 "metadata": {
  "kernelspec": {
   "display_name": "Python 3 (ipykernel)",
   "language": "python",
   "name": "python3"
  },
  "language_info": {
   "codemirror_mode": {
    "name": "ipython",
    "version": 3
   },
   "file_extension": ".py",
   "mimetype": "text/x-python",
   "name": "python",
   "nbconvert_exporter": "python",
   "pygments_lexer": "ipython3",
   "version": "3.9.7"
  }
 },
 "nbformat": 4,
 "nbformat_minor": 5
}
