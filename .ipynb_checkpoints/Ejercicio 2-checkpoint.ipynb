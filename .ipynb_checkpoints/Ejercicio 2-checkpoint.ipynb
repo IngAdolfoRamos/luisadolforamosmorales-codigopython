{
 "cells": [
  {
   "cell_type": "code",
   "execution_count": null,
   "id": "6dd6fd24-abf3-4fa7-a3b5-31402d82fcf1",
   "metadata": {},
   "outputs": [],
   "source": []
  }
 ],
 "metadata": {
  "kernelspec": {
   "display_name": "Python 3 (ipykernel)",
   "language": "python",
   "name": "python3"
  },
  "language_info": {
   "codemirror_mode": {
    "name": "ipython",
    "version": 3
   },
   "file_extension": ".py",
   "mimetype": "text/x-python",
   "name": "python",
   "nbconvert_exporter": "python",
   "pygments_lexer": "ipython3",
   "version": "3.9.7"
  }
 },
 "nbformat": 4,
 "nbformat_minor": 5
}
