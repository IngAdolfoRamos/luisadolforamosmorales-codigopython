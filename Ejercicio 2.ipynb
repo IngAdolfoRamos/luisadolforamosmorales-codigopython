{
 "cells": [
  {
   "cell_type": "code",
   "execution_count": 1,
   "id": "6dd6fd24-abf3-4fa7-a3b5-31402d82fcf1",
   "metadata": {},
   "outputs": [
    {
     "name": "stdin",
     "output_type": "stream",
     "text": [
      "Ingresa tu nombre:  Adolfo\n",
      "Ingresa tu telefono:  5564453438\n",
      "Ingresa tu correo:  ingadolfo@icloud.com\n"
     ]
    },
    {
     "name": "stdout",
     "output_type": "stream",
     "text": [
      "Bienvenido  Adolfo , tu numero de celular es:  5564453438  y tu correo es:  ingadolfo@icloud.com\n"
     ]
    }
   ],
   "source": [
    "username = input(\"Ingresa tu nombre: \")\n",
    "phone = input(\"Ingresa tu telefono: \")\n",
    "email = input(\"Ingresa tu correo: \")\n",
    "\n",
    "print ('Bienvenido ', username, ', tu numero de celular es: ', phone, ' y tu correo es: ', email)"
   ]
  },
  {
   "cell_type": "code",
   "execution_count": null,
   "id": "fc5b6604-f178-4815-820b-9383f94c49dc",
   "metadata": {},
   "outputs": [],
   "source": []
  }
 ],
 "metadata": {
  "kernelspec": {
   "display_name": "Python 3 (ipykernel)",
   "language": "python",
   "name": "python3"
  },
  "language_info": {
   "codemirror_mode": {
    "name": "ipython",
    "version": 3
   },
   "file_extension": ".py",
   "mimetype": "text/x-python",
   "name": "python",
   "nbconvert_exporter": "python",
   "pygments_lexer": "ipython3",
   "version": "3.9.7"
  }
 },
 "nbformat": 4,
 "nbformat_minor": 5
}
