{
 "cells": [
  {
   "cell_type": "code",
   "execution_count": 4,
   "id": "4f071cc2-ff84-46a3-9c1e-0e7f5fd6c1dd",
   "metadata": {},
   "outputs": [
    {
     "name": "stdin",
     "output_type": "stream",
     "text": [
      "Introduce el valor del primer resistor 2\n",
      "Introduce el valor del segundo resistor 4\n"
     ]
    },
    {
     "name": "stdout",
     "output_type": "stream",
     "text": [
      "El valor de la resistencia total es:  1.3333333333333333\n"
     ]
    }
   ],
   "source": [
    "valor1 = int(input(\"Introduce el valor del primer resistor\"))\n",
    "valor2 = int(input(\"Introduce el valor del segundo resistor\"))\n",
    "Res = 1/((1/valor1)+(1/valor2))\n",
    "print ('El valor de la resistencia total es: ', Res)"
   ]
  },
  {
   "cell_type": "code",
   "execution_count": null,
   "id": "86dd0893-b158-491d-8cec-d062e7c8d412",
   "metadata": {},
   "outputs": [],
   "source": []
  }
 ],
 "metadata": {
  "kernelspec": {
   "display_name": "Python 3 (ipykernel)",
   "language": "python",
   "name": "python3"
  },
  "language_info": {
   "codemirror_mode": {
    "name": "ipython",
    "version": 3
   },
   "file_extension": ".py",
   "mimetype": "text/x-python",
   "name": "python",
   "nbconvert_exporter": "python",
   "pygments_lexer": "ipython3",
   "version": "3.9.7"
  }
 },
 "nbformat": 4,
 "nbformat_minor": 5
}
